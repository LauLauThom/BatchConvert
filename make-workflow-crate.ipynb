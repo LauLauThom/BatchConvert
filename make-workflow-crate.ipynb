{
 "cells": [
  {
   "cell_type": "code",
   "execution_count": 9,
   "metadata": {},
   "outputs": [
    {
     "name": "stdout",
     "output_type": "stream",
     "text": [
      "['/Library/Frameworks/Python.framework/Versions/3.10/lib/python3.10/site-packages/rocrate']\n"
     ]
    }
   ],
   "source": [
    "import rocrate\n",
    "print(rocrate.__path__)\n",
    "\n",
    "from rocrate.rocrate import ROCrate\n",
    "from rocrate.model.person import Person"
   ]
  },
  {
   "cell_type": "code",
   "execution_count": 1,
   "metadata": {},
   "outputs": [
    {
     "data": {
      "text/plain": [
       "'/Users/thomasl/Documents/repos/BatchConvert'"
      ]
     },
     "execution_count": 1,
     "metadata": {},
     "output_type": "execute_result"
    }
   ],
   "source": [
    "%pwd"
   ]
  },
  {
   "cell_type": "code",
   "execution_count": 8,
   "metadata": {},
   "outputs": [
    {
     "ename": "ValueError",
     "evalue": "Unknown language: shell",
     "output_type": "error",
     "traceback": [
      "\u001b[0;31m---------------------------------------------------------------------------\u001b[0m",
      "\u001b[0;31mKeyError\u001b[0m                                  Traceback (most recent call last)",
      "File \u001b[0;32m/Library/Frameworks/Python.framework/Versions/3.10/lib/python3.10/site-packages/rocrate/model/computerlanguage.py:199\u001b[0m, in \u001b[0;36mget_lang\u001b[0;34m(crate, name, version)\u001b[0m\n\u001b[1;32m    198\u001b[0m \u001b[38;5;28;01mtry\u001b[39;00m:\n\u001b[0;32m--> 199\u001b[0m     func \u001b[38;5;241m=\u001b[39m \u001b[43mLANG_MAP\u001b[49m\u001b[43m[\u001b[49m\u001b[43mname\u001b[49m\u001b[38;5;241;43m.\u001b[39;49m\u001b[43mlower\u001b[49m\u001b[43m(\u001b[49m\u001b[43m)\u001b[49m\u001b[43m]\u001b[49m\n\u001b[1;32m    200\u001b[0m \u001b[38;5;28;01mexcept\u001b[39;00m \u001b[38;5;167;01mKeyError\u001b[39;00m:\n",
      "\u001b[0;31mKeyError\u001b[0m: 'shell'",
      "\nDuring handling of the above exception, another exception occurred:\n",
      "\u001b[0;31mValueError\u001b[0m                                Traceback (most recent call last)",
      "Cell \u001b[0;32mIn[8], line 1\u001b[0m\n\u001b[0;32m----> 1\u001b[0m \u001b[43mcrate\u001b[49m\u001b[38;5;241;43m.\u001b[39;49m\u001b[43madd_workflow\u001b[49m\u001b[43m(\u001b[49m\u001b[38;5;124;43m\"\u001b[39;49m\u001b[38;5;124;43mbatchconvert\u001b[39;49m\u001b[38;5;124;43m\"\u001b[39;49m\u001b[43m,\u001b[49m\u001b[43m \u001b[49m\u001b[43mmain\u001b[49m\u001b[38;5;241;43m=\u001b[39;49m\u001b[38;5;28;43;01mTrue\u001b[39;49;00m\u001b[43m,\u001b[49m\u001b[43m \u001b[49m\u001b[43mlang\u001b[49m\u001b[43m \u001b[49m\u001b[38;5;241;43m=\u001b[39;49m\u001b[43m \u001b[49m\u001b[38;5;124;43m\"\u001b[39;49m\u001b[38;5;124;43mshell\u001b[39;49m\u001b[38;5;124;43m\"\u001b[39;49m\u001b[43m)\u001b[49m \u001b[38;5;66;03m# throws an error, currently lang has to be one of \"cwl\", \"galaxy\", \"knime\", \"nextflow\", \"snakemake\", \"compss\", \"autosubmit\"\u001b[39;00m\n",
      "File \u001b[0;32m/Library/Frameworks/Python.framework/Versions/3.10/lib/python3.10/site-packages/rocrate/rocrate.py:494\u001b[0m, in \u001b[0;36mROCrate.add_workflow\u001b[0;34m(self, source, dest_path, fetch_remote, validate_url, properties, main, lang, lang_version, gen_cwl, cls, record_size)\u001b[0m\n\u001b[1;32m    492\u001b[0m     \u001b[38;5;28;01massert\u001b[39;00m lang\u001b[38;5;241m.\u001b[39mcrate \u001b[38;5;129;01mis\u001b[39;00m \u001b[38;5;28mself\u001b[39m\n\u001b[1;32m    493\u001b[0m \u001b[38;5;28;01melse\u001b[39;00m:\n\u001b[0;32m--> 494\u001b[0m     lang \u001b[38;5;241m=\u001b[39m \u001b[43mget_lang\u001b[49m\u001b[43m(\u001b[49m\u001b[38;5;28;43mself\u001b[39;49m\u001b[43m,\u001b[49m\u001b[43m \u001b[49m\u001b[43mlang\u001b[49m\u001b[43m,\u001b[49m\u001b[43m \u001b[49m\u001b[43mversion\u001b[49m\u001b[38;5;241;43m=\u001b[39;49m\u001b[43mlang_version\u001b[49m\u001b[43m)\u001b[49m\n\u001b[1;32m    495\u001b[0m     \u001b[38;5;28mself\u001b[39m\u001b[38;5;241m.\u001b[39madd(lang)\n\u001b[1;32m    496\u001b[0m lang_str \u001b[38;5;241m=\u001b[39m lang\u001b[38;5;241m.\u001b[39mid\u001b[38;5;241m.\u001b[39mrsplit(\u001b[38;5;124m\"\u001b[39m\u001b[38;5;124m#\u001b[39m\u001b[38;5;124m\"\u001b[39m, \u001b[38;5;241m1\u001b[39m)[\u001b[38;5;241m1\u001b[39m]\n",
      "File \u001b[0;32m/Library/Frameworks/Python.framework/Versions/3.10/lib/python3.10/site-packages/rocrate/model/computerlanguage.py:201\u001b[0m, in \u001b[0;36mget_lang\u001b[0;34m(crate, name, version)\u001b[0m\n\u001b[1;32m    199\u001b[0m     func \u001b[38;5;241m=\u001b[39m LANG_MAP[name\u001b[38;5;241m.\u001b[39mlower()]\n\u001b[1;32m    200\u001b[0m \u001b[38;5;28;01mexcept\u001b[39;00m \u001b[38;5;167;01mKeyError\u001b[39;00m:\n\u001b[0;32m--> 201\u001b[0m     \u001b[38;5;28;01mraise\u001b[39;00m \u001b[38;5;167;01mValueError\u001b[39;00m(\u001b[38;5;124mf\u001b[39m\u001b[38;5;124m\"\u001b[39m\u001b[38;5;124mUnknown language: \u001b[39m\u001b[38;5;132;01m{\u001b[39;00mname\u001b[38;5;132;01m}\u001b[39;00m\u001b[38;5;124m\"\u001b[39m)\n\u001b[1;32m    202\u001b[0m \u001b[38;5;28;01mreturn\u001b[39;00m func(crate, version\u001b[38;5;241m=\u001b[39mversion)\n",
      "\u001b[0;31mValueError\u001b[0m: Unknown language: shell"
     ]
    }
   ],
   "source": [
    "crate.add_workflow(\"batchconvert\", main=True, lang = \"shell\") # throws an error, currently lang has to be one of \"cwl\", \"galaxy\", \"knime\", \"nextflow\", \"snakemake\", \"compss\", \"autosubmit\""
   ]
  },
  {
   "cell_type": "code",
   "execution_count": null,
   "metadata": {},
   "outputs": [
    {
     "ename": "TypeError",
     "evalue": "'ROCrate' object does not support item assignment",
     "output_type": "error",
     "traceback": [
      "\u001b[0;31m---------------------------------------------------------------------------\u001b[0m",
      "\u001b[0;31mTypeError\u001b[0m                                 Traceback (most recent call last)",
      "Cell \u001b[0;32mIn[10], line 11\u001b[0m\n\u001b[1;32m      6\u001b[0m \u001b[38;5;66;03m#crate.add_file(\"batchconvert\", properties = {\"name\" : \"batchconvert_entry_point\", \"\"})\u001b[39;00m\n\u001b[1;32m      7\u001b[0m \n\u001b[1;32m      8\u001b[0m \u001b[38;5;66;03m# Add the authors and institution potentially\u001b[39;00m\n\u001b[1;32m      9\u001b[0m \u001b[38;5;66;03m# works but not added as author of the workflow\u001b[39;00m\n\u001b[1;32m     10\u001b[0m author \u001b[38;5;241m=\u001b[39m crate\u001b[38;5;241m.\u001b[39madd(Person(crate, identifier\u001b[38;5;241m=\u001b[39m\u001b[38;5;124m\"\u001b[39m\u001b[38;5;124mhttps://orcid.org/0000-0001-9823-0581\u001b[39m\u001b[38;5;124m\"\u001b[39m, properties\u001b[38;5;241m=\u001b[39m{\u001b[38;5;124m\"\u001b[39m\u001b[38;5;124mName\u001b[39m\u001b[38;5;124m\"\u001b[39m : \u001b[38;5;124m\"\u001b[39m\u001b[38;5;124mBugra Özdemir\u001b[39m\u001b[38;5;124m\"\u001b[39m})) \u001b[38;5;66;03m# the O with umlaut gets a unicode character code, which is OK in a UI it renders properly\u001b[39;00m\n\u001b[0;32m---> 11\u001b[0m \u001b[43mcrate\u001b[49m\u001b[43m[\u001b[49m\u001b[38;5;124;43m\"\u001b[39;49m\u001b[38;5;124;43mAuthors\u001b[39;49m\u001b[38;5;124;43m\"\u001b[39;49m\u001b[43m]\u001b[49m \u001b[38;5;241m=\u001b[39m author\n",
      "\u001b[0;31mTypeError\u001b[0m: 'ROCrate' object does not support item assignment"
     ]
    }
   ],
   "source": [
    "# Create a crate for the given directory\n",
    "# Files and folder will be added manually\n",
    "crate = ROCrate(source = \"\")\n",
    "crate.add_workflow(\"batchconvert\", main=True, lang = \"nextflow\") # throws an error, currently lang has to be one of \"cwl\", \"galaxy\", \"knime\", \"nextflow\", \"snakemake\", \"compss\", \"autosubmit\"\n",
    "\n",
    "#crate.add_file(\"batchconvert\", properties = {\"name\" : \"batchconvert_entry_point\", \"\"})\n",
    "\n",
    "# Add the authors and institution potentially\n",
    "# works but not added as author of the workflow\n",
    "author = crate.add(Person(crate, identifier=\"https://orcid.org/0000-0001-9823-0581\", properties={\"Name\" : \"Bugra Özdemir\"})) # the O with umlaut gets a unicode character code, which is OK in a UI it renders properly\n",
    "#crate[\"Authors\"] = author\n"
   ]
  },
  {
   "cell_type": "code",
   "execution_count": null,
   "metadata": {},
   "outputs": [],
   "source": [
    "# Add the authors at the root of the dataset entity as expected by workflow hub\n",
    "for e in crate.get_entities():\n",
    "    \n",
    "    if e.id == \"./\" :\n",
    "        root_dataset_entity = e\n",
    "        break\n",
    "\n",
    "else: # for/else : hit if the for loop does not break\n",
    "    raise Exception(\"Could not find root Dataset entity\")\n",
    "\n",
    "root_dataset_entity[\"author\"] = [author]\n"
   ]
  },
  {
   "cell_type": "code",
   "execution_count": 13,
   "metadata": {},
   "outputs": [],
   "source": [
    "# Save the crate, weird issue seems to create a lot of of subdirectories \"my_crate\" > \"my_crate\"\n",
    "# All files of the original directory actually get copied !\n",
    "crate.write(\"test_crate\") # write and write_crate are the same\n",
    "#crate.write_crate(\"my_crate\")"
   ]
  },
  {
   "cell_type": "code",
   "execution_count": 10,
   "metadata": {},
   "outputs": [
    {
     "data": {
      "text/plain": [
       "['_ROCrate__add_parts',\n",
       " '_ROCrate__entity_map',\n",
       " '_ROCrate__init_from_tree',\n",
       " '_ROCrate__read',\n",
       " '_ROCrate__read_contextual_entities',\n",
       " '_ROCrate__read_data_entities',\n",
       " '_ROCrate__validate_suite',\n",
       " '__class__',\n",
       " '__delattr__',\n",
       " '__dict__',\n",
       " '__dir__',\n",
       " '__doc__',\n",
       " '__eq__',\n",
       " '__format__',\n",
       " '__ge__',\n",
       " '__getattribute__',\n",
       " '__gt__',\n",
       " '__hash__',\n",
       " '__init__',\n",
       " '__init_subclass__',\n",
       " '__le__',\n",
       " '__lt__',\n",
       " '__module__',\n",
       " '__ne__',\n",
       " '__new__',\n",
       " '__reduce__',\n",
       " '__reduce_ex__',\n",
       " '__repr__',\n",
       " '__setattr__',\n",
       " '__sizeof__',\n",
       " '__str__',\n",
       " '__subclasshook__',\n",
       " '__weakref__',\n",
       " '_copy_unlisted',\n",
       " '_get_root_jsonld',\n",
       " 'add',\n",
       " 'add_action',\n",
       " 'add_dataset',\n",
       " 'add_directory',\n",
       " 'add_file',\n",
       " 'add_jsonld',\n",
       " 'add_or_update_jsonld',\n",
       " 'add_test_definition',\n",
       " 'add_test_instance',\n",
       " 'add_test_suite',\n",
       " 'add_tree',\n",
       " 'add_workflow',\n",
       " 'arcp_base_uri',\n",
       " 'contextual_entities',\n",
       " 'creativeWorkStatus',\n",
       " 'creator',\n",
       " 'data_entities',\n",
       " 'datePublished',\n",
       " 'default_entities',\n",
       " 'delete',\n",
       " 'dereference',\n",
       " 'description',\n",
       " 'examples_dir',\n",
       " 'exclude',\n",
       " 'get',\n",
       " 'get_by_type',\n",
       " 'get_entities',\n",
       " 'image',\n",
       " 'isBasedOn',\n",
       " 'keywords',\n",
       " 'license',\n",
       " 'mainEntity',\n",
       " 'metadata',\n",
       " 'name',\n",
       " 'preview',\n",
       " 'publisher',\n",
       " 'resolve_id',\n",
       " 'root_dataset',\n",
       " 'source',\n",
       " 'test_dir',\n",
       " 'test_suites',\n",
       " 'update_jsonld',\n",
       " 'uuid',\n",
       " 'write',\n",
       " 'write_crate',\n",
       " 'write_zip']"
      ]
     },
     "execution_count": 10,
     "metadata": {},
     "output_type": "execute_result"
    }
   ],
   "source": [
    "dir(crate)"
   ]
  },
  {
   "cell_type": "code",
   "execution_count": 11,
   "metadata": {},
   "outputs": [
    {
     "data": {
      "text/plain": [
       "dict_values([<./ Dataset>, <ro-crate-metadata.json CreativeWork>, <test-knime-workflow.knwf File>, <make-workflow.ipynb File>])"
      ]
     },
     "execution_count": 11,
     "metadata": {},
     "output_type": "execute_result"
    }
   ],
   "source": [
    "crate.get_entities()"
   ]
  },
  {
   "cell_type": "code",
   "execution_count": 18,
   "metadata": {},
   "outputs": [
    {
     "name": "stdout",
     "output_type": "stream",
     "text": [
      "<./ Dataset>\n",
      "<ro-crate-metadata.json CreativeWork>\n",
      "<test-knime-workflow.knwf File>\n",
      "<make-workflow.ipynb File>\n"
     ]
    },
    {
     "data": {
      "text/plain": [
       "['_Entity__id',\n",
       " '_MutableMapping__marker',\n",
       " '__abstractmethods__',\n",
       " '__class__',\n",
       " '__class_getitem__',\n",
       " '__contains__',\n",
       " '__delattr__',\n",
       " '__delitem__',\n",
       " '__dict__',\n",
       " '__dir__',\n",
       " '__doc__',\n",
       " '__eq__',\n",
       " '__format__',\n",
       " '__ge__',\n",
       " '__getattribute__',\n",
       " '__getitem__',\n",
       " '__gt__',\n",
       " '__hash__',\n",
       " '__init__',\n",
       " '__init_subclass__',\n",
       " '__iter__',\n",
       " '__le__',\n",
       " '__len__',\n",
       " '__lt__',\n",
       " '__module__',\n",
       " '__ne__',\n",
       " '__new__',\n",
       " '__reduce__',\n",
       " '__reduce_ex__',\n",
       " '__repr__',\n",
       " '__reversed__',\n",
       " '__setattr__',\n",
       " '__setitem__',\n",
       " '__sizeof__',\n",
       " '__slots__',\n",
       " '__str__',\n",
       " '__subclasshook__',\n",
       " '__weakref__',\n",
       " '_abc_impl',\n",
       " '_default_type',\n",
       " '_empty',\n",
       " '_jsonld',\n",
       " 'append_to',\n",
       " 'as_jsonld',\n",
       " 'canonical_id',\n",
       " 'clear',\n",
       " 'crate',\n",
       " 'datePublished',\n",
       " 'delete',\n",
       " 'fetch_remote',\n",
       " 'format_id',\n",
       " 'get',\n",
       " 'id',\n",
       " 'items',\n",
       " 'keys',\n",
       " 'pop',\n",
       " 'popitem',\n",
       " 'properties',\n",
       " 'record_size',\n",
       " 'setdefault',\n",
       " 'source',\n",
       " 'type',\n",
       " 'update',\n",
       " 'validate_url',\n",
       " 'values',\n",
       " 'write']"
      ]
     },
     "execution_count": 18,
     "metadata": {},
     "output_type": "execute_result"
    }
   ],
   "source": [
    "for entity in crate.get_entities():\n",
    "    print(entity)\n",
    "\n",
    "dir(entity)"
   ]
  },
  {
   "cell_type": "code",
   "execution_count": 20,
   "metadata": {},
   "outputs": [
    {
     "data": {
      "text/plain": [
       "ValuesView(<make-workflow.ipynb File>)"
      ]
     },
     "execution_count": 20,
     "metadata": {},
     "output_type": "execute_result"
    }
   ],
   "source": [
    "entity.values()"
   ]
  },
  {
   "cell_type": "code",
   "execution_count": 4,
   "metadata": {},
   "outputs": [],
   "source": [
    "crate_bottom_up = ROCrate()\n",
    "workflow = crate_bottom_up.add_workflow(source = \"./test-knime-workflow.knwf\", \n",
    "                                        main=True, # should be true when creating a Workflow RO Crate, the workflow is the top level element, otherwise just added as any daughter element\n",
    "                                        lang=\"knime\")"
   ]
  },
  {
   "cell_type": "code",
   "execution_count": 6,
   "metadata": {},
   "outputs": [],
   "source": [
    "crate_bottom_up.write_crate(\"./test\")"
   ]
  },
  {
   "cell_type": "code",
   "execution_count": null,
   "metadata": {},
   "outputs": [],
   "source": []
  }
 ],
 "metadata": {
  "kernelspec": {
   "display_name": "Python 3",
   "language": "python",
   "name": "python3"
  },
  "language_info": {
   "codemirror_mode": {
    "name": "ipython",
    "version": 3
   },
   "file_extension": ".py",
   "mimetype": "text/x-python",
   "name": "python",
   "nbconvert_exporter": "python",
   "pygments_lexer": "ipython3",
   "version": "3.10.1"
  }
 },
 "nbformat": 4,
 "nbformat_minor": 2
}
