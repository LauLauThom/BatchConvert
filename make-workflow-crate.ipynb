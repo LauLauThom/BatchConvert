{
 "cells": [
  {
   "cell_type": "markdown",
   "metadata": {},
   "source": [
    "This notebook creates a Workflow RO crate for the BatchConvert tool at the root of the repo.  \n",
    "The notebook could be extended to document a run with the workflow hence creating a WF Run RO crate procedure.\n",
    "\n",
    "The notebook uses the general purpose python rocrate library to create the crate (and the underlying json file).  \n",
    "Adding items to the crate follows the following event sequence : \n",
    "- create an item \n",
    "- add it to the crate\n",
    "- link the item to other items in the crate\n",
    "\n",
    "Some functions of the rocrate package take care of both creating an item and adding it to the crate (ex: add_workflow).  "
   ]
  },
  {
   "cell_type": "code",
   "execution_count": null,
   "metadata": {},
   "outputs": [
    {
     "name": "stdout",
     "output_type": "stream",
     "text": [
      "['/Library/Frameworks/Python.framework/Versions/3.10/lib/python3.10/site-packages/rocrate']\n"
     ]
    }
   ],
   "source": [
    "import rocrate\n",
    "#print(rocrate.__path__)\n",
    "\n",
    "from rocrate.rocrate import ROCrate\n",
    "from rocrate.model   import ComputerLanguage\n",
    "from rocrate.model.person import Person"
   ]
  },
  {
   "cell_type": "code",
   "execution_count": 2,
   "metadata": {},
   "outputs": [
    {
     "data": {
      "text/plain": [
       "'/Users/thomasl/Documents/repos/BatchConvert'"
      ]
     },
     "execution_count": 2,
     "metadata": {},
     "output_type": "execute_result"
    }
   ],
   "source": [
    "%pwd"
   ]
  },
  {
   "cell_type": "code",
   "execution_count": 12,
   "metadata": {},
   "outputs": [],
   "source": [
    "# Create a crate for the given directory\n",
    "# Files and folder will be added manually\n",
    "crate = ROCrate(source = \"\")\n",
    "\n",
    "# crate.add_workflow(\"batchconvert\", main=True, lang = \"shell\") # throws an error, currently lang has to be one of \"cwl\", \"galaxy\", \"knime\", \"nextflow\", \"snakemake\", \"compss\", \"autosubmit\"\n",
    "# However one can also pass a ComputerLanguage object to lang, see https://github.com/ResearchObject/ro-crate-py/issues/218#issuecomment-2753694857\n",
    "bash_url = \"https://www.gnu.org/software/bash/\"\n",
    "bash = ComputerLanguage(crate, identifier=\"#bash\", properties = {\"name\" : \"Bash\",\n",
    "                                                                 \"identifier\": {\"@id\": bash_url},\n",
    "                                                                 \"url\": {\"@id\": bash_url}\n",
    "                                                                })\n",
    "crate.add(bash) # need to add the item first then reference it\n",
    "main_wf = crate.add_workflow(\"batchconvert\", main=True, lang = bash) # type: ignore\n",
    "\n",
    "# Try adding the subworkflows has part of the WF crate\n",
    "# For a run, one could omit the one not used, or only mention the one used via a createAction\n",
    "# Same process, create the entities and add them to the crate (done in one go by add_workflow here), then link them to the main wf\n",
    "workflow_tiff = crate.add_workflow(source = \"pff2ometiff.nf\", \n",
    "                                   main = False,\n",
    "                                   lang = \"nextflow\")\n",
    "\n",
    "workflow_zarr = crate.add_workflow(source = \"pff2omezarr.nf\", \n",
    "                                   main = False,\n",
    "                                   lang = \"nextflow\")\n",
    "\n",
    "# Add description to the secondary workflow\n",
    "desc_template = \"Nextflow workflow executed when passing the argument (i.e converting to) '{}' as first argument to the BatchConvert utility.\"\n",
    "workflow_tiff[\"description\"] = desc_template.format(\"ometiff\") # type: ignore\n",
    "workflow_zarr[\"description\"] = desc_template.format(\"omezarr\") # type: ignore\n",
    "\n",
    "main_wf[\"hasPart\"] = [workflow_tiff, workflow_zarr]  # type: ignore\n",
    "\n",
    "# Add the authors and institution potentially\n",
    "# works but not added as author of the workflow\n",
    "author = crate.add(Person(crate, identifier=\"https://orcid.org/0000-0001-9823-0581\", properties={\"Name\" : \"Bugra Özdemir\"})) # the O with umlaut gets a unicode character code, which is OK in a UI it renders properly\n",
    "#crate[\"Authors\"] = author # nope\n",
    "\n",
    "# Add the authors at the root of the dataset entity as expected by workflow hub\n",
    "\"\"\"\n",
    "for e in crate.get_entities():\n",
    "    \n",
    "    if e.id == \"./\" :\n",
    "        root_dataset_entity = e\n",
    "        break\n",
    "\n",
    "else: # for/else : hit if the for loop does not break\n",
    "    raise Exception(\"Could not find root Dataset entity\")\n",
    "\"\"\"\n",
    "crate.root_dataset[\"author\"] = [author]\n",
    "\n",
    "# Save the crate in a new subdirectory, all files and directories listed in the json will get copied to the subdirectory\n",
    "crate.write(\"test_crate\") # write and write_crate are the same\n",
    "#crate.write_crate(\"my_crate\")"
   ]
  },
  {
   "cell_type": "code",
   "execution_count": 10,
   "metadata": {},
   "outputs": [
    {
     "data": {
      "text/plain": [
       "['_ROCrate__add_parts',\n",
       " '_ROCrate__entity_map',\n",
       " '_ROCrate__init_from_tree',\n",
       " '_ROCrate__read',\n",
       " '_ROCrate__read_contextual_entities',\n",
       " '_ROCrate__read_data_entities',\n",
       " '_ROCrate__validate_suite',\n",
       " '__class__',\n",
       " '__delattr__',\n",
       " '__dict__',\n",
       " '__dir__',\n",
       " '__doc__',\n",
       " '__eq__',\n",
       " '__format__',\n",
       " '__ge__',\n",
       " '__getattribute__',\n",
       " '__gt__',\n",
       " '__hash__',\n",
       " '__init__',\n",
       " '__init_subclass__',\n",
       " '__le__',\n",
       " '__lt__',\n",
       " '__module__',\n",
       " '__ne__',\n",
       " '__new__',\n",
       " '__reduce__',\n",
       " '__reduce_ex__',\n",
       " '__repr__',\n",
       " '__setattr__',\n",
       " '__sizeof__',\n",
       " '__str__',\n",
       " '__subclasshook__',\n",
       " '__weakref__',\n",
       " '_copy_unlisted',\n",
       " '_get_root_jsonld',\n",
       " 'add',\n",
       " 'add_action',\n",
       " 'add_dataset',\n",
       " 'add_directory',\n",
       " 'add_file',\n",
       " 'add_jsonld',\n",
       " 'add_or_update_jsonld',\n",
       " 'add_test_definition',\n",
       " 'add_test_instance',\n",
       " 'add_test_suite',\n",
       " 'add_tree',\n",
       " 'add_workflow',\n",
       " 'arcp_base_uri',\n",
       " 'contextual_entities',\n",
       " 'creativeWorkStatus',\n",
       " 'creator',\n",
       " 'data_entities',\n",
       " 'datePublished',\n",
       " 'default_entities',\n",
       " 'delete',\n",
       " 'dereference',\n",
       " 'description',\n",
       " 'examples_dir',\n",
       " 'exclude',\n",
       " 'get',\n",
       " 'get_by_type',\n",
       " 'get_entities',\n",
       " 'image',\n",
       " 'isBasedOn',\n",
       " 'keywords',\n",
       " 'license',\n",
       " 'mainEntity',\n",
       " 'metadata',\n",
       " 'name',\n",
       " 'preview',\n",
       " 'publisher',\n",
       " 'resolve_id',\n",
       " 'root_dataset',\n",
       " 'source',\n",
       " 'test_dir',\n",
       " 'test_suites',\n",
       " 'update_jsonld',\n",
       " 'uuid',\n",
       " 'write',\n",
       " 'write_crate',\n",
       " 'write_zip']"
      ]
     },
     "execution_count": 10,
     "metadata": {},
     "output_type": "execute_result"
    }
   ],
   "source": [
    "dir(crate)"
   ]
  },
  {
   "cell_type": "code",
   "execution_count": 18,
   "metadata": {},
   "outputs": [
    {
     "name": "stdout",
     "output_type": "stream",
     "text": [
      "<./ Dataset>\n",
      "<ro-crate-metadata.json CreativeWork>\n",
      "<test-knime-workflow.knwf File>\n",
      "<make-workflow.ipynb File>\n"
     ]
    },
    {
     "data": {
      "text/plain": [
       "['_Entity__id',\n",
       " '_MutableMapping__marker',\n",
       " '__abstractmethods__',\n",
       " '__class__',\n",
       " '__class_getitem__',\n",
       " '__contains__',\n",
       " '__delattr__',\n",
       " '__delitem__',\n",
       " '__dict__',\n",
       " '__dir__',\n",
       " '__doc__',\n",
       " '__eq__',\n",
       " '__format__',\n",
       " '__ge__',\n",
       " '__getattribute__',\n",
       " '__getitem__',\n",
       " '__gt__',\n",
       " '__hash__',\n",
       " '__init__',\n",
       " '__init_subclass__',\n",
       " '__iter__',\n",
       " '__le__',\n",
       " '__len__',\n",
       " '__lt__',\n",
       " '__module__',\n",
       " '__ne__',\n",
       " '__new__',\n",
       " '__reduce__',\n",
       " '__reduce_ex__',\n",
       " '__repr__',\n",
       " '__reversed__',\n",
       " '__setattr__',\n",
       " '__setitem__',\n",
       " '__sizeof__',\n",
       " '__slots__',\n",
       " '__str__',\n",
       " '__subclasshook__',\n",
       " '__weakref__',\n",
       " '_abc_impl',\n",
       " '_default_type',\n",
       " '_empty',\n",
       " '_jsonld',\n",
       " 'append_to',\n",
       " 'as_jsonld',\n",
       " 'canonical_id',\n",
       " 'clear',\n",
       " 'crate',\n",
       " 'datePublished',\n",
       " 'delete',\n",
       " 'fetch_remote',\n",
       " 'format_id',\n",
       " 'get',\n",
       " 'id',\n",
       " 'items',\n",
       " 'keys',\n",
       " 'pop',\n",
       " 'popitem',\n",
       " 'properties',\n",
       " 'record_size',\n",
       " 'setdefault',\n",
       " 'source',\n",
       " 'type',\n",
       " 'update',\n",
       " 'validate_url',\n",
       " 'values',\n",
       " 'write']"
      ]
     },
     "execution_count": 18,
     "metadata": {},
     "output_type": "execute_result"
    }
   ],
   "source": [
    "for entity in crate.get_entities():\n",
    "    print(entity)\n",
    "\n",
    "dir(entity)"
   ]
  }
 ],
 "metadata": {
  "kernelspec": {
   "display_name": "Python 3",
   "language": "python",
   "name": "python3"
  },
  "language_info": {
   "codemirror_mode": {
    "name": "ipython",
    "version": 3
   },
   "file_extension": ".py",
   "mimetype": "text/x-python",
   "name": "python",
   "nbconvert_exporter": "python",
   "pygments_lexer": "ipython3",
   "version": "3.10.1"
  }
 },
 "nbformat": 4,
 "nbformat_minor": 2
}
