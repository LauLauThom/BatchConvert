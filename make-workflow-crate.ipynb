{
 "cells": [
  {
   "cell_type": "markdown",
   "metadata": {},
   "source": [
    "This notebook creates a Workflow RO crate for the BatchConvert tool at the root of the repo.  \n",
    "The notebook could be extended to document a run with the workflow hence creating a WF Run RO crate procedure.\n",
    "\n",
    "The notebook uses the general purpose python rocrate library to create the crate (and the underlying json file).  \n",
    "Adding items to the crate follows the following event sequence : \n",
    "- create an item \n",
    "- add it to the crate\n",
    "- link the item to other items in the crate\n",
    "\n",
    "Some functions of the rocrate package take care of both creating an item and adding it to the crate (ex: add_workflow).  "
   ]
  },
  {
   "cell_type": "code",
   "execution_count": 1,
   "metadata": {},
   "outputs": [
    {
     "name": "stdout",
     "output_type": "stream",
     "text": [
      "Working directory : /Users/thomasl/Documents/repos/BatchConvert\n"
     ]
    }
   ],
   "source": [
    "import os, sys\n",
    "from pprint import pprint\n",
    "from pathlib import Path\n",
    "\n",
    "sys.path.append(\"./bin\")\n",
    "#sys.path.append(str(Path.cwd().joinpath(\"bin\")))\n",
    "#pprint(sys.path)\n",
    "\n",
    "print(\"Working directory :\", os.getcwd())\n",
    "\n",
    "from make_workflow_crate import create_workflow_crate"
   ]
  },
  {
   "cell_type": "code",
   "execution_count": 2,
   "metadata": {},
   "outputs": [
    {
     "data": {
      "text/plain": [
       "<rocrate.rocrate.ROCrate at 0x10aee5bd0>"
      ]
     },
     "execution_count": 2,
     "metadata": {},
     "output_type": "execute_result"
    }
   ],
   "source": [
    "crate = create_workflow_crate(\"\")\n",
    "crate"
   ]
  },
  {
   "cell_type": "code",
   "execution_count": 3,
   "metadata": {},
   "outputs": [
    {
     "data": {
      "text/plain": [
       "{'@id': 'batchconvert',\n",
       " '@type': ['File', 'SoftwareSourceCode', 'ComputationalWorkflow'],\n",
       " 'name': 'batchconvert',\n",
       " 'programmingLanguage': {'@id': '#bash'},\n",
       " 'input': [{'@id': '#conversion_format'}],\n",
       " 'hasPart': [{'@id': 'pff2ometiff.nf'}, {'@id': 'pff2omezarr.nf'}]}"
      ]
     },
     "execution_count": 3,
     "metadata": {},
     "output_type": "execute_result"
    }
   ],
   "source": [
    "crate.mainEntity.as_jsonld()"
   ]
  },
  {
   "cell_type": "code",
   "execution_count": 5,
   "metadata": {},
   "outputs": [
    {
     "name": "stdout",
     "output_type": "stream",
     "text": [
      "RO-Crate is valid!\n"
     ]
    }
   ],
   "source": [
    "# Write and validate the crate\n",
    "path = \"test_crate\"\n",
    "crate.write(path)\n",
    "\n",
    "\n",
    "# Import the `services` and `models` module from the rocrate_validator package\n",
    "from rocrate_validator import services, models\n",
    "\n",
    "# Create an instance of `ValidationSettings` class to configure the validation\n",
    "settings = services.ValidationSettings(rocrate_uri = path,\n",
    "                                       profile_identifier = \"workflow-ro-crate-1.0\",\n",
    "                                       #requirement_severity = models.Severity.REQUIRED,\n",
    "                                       requirement_severity = models.Severity.RECOMMENDED\n",
    "                                       )\n",
    "\n",
    "# Call the validation service with the settings\n",
    "result = services.validate(settings)\n",
    "\n",
    "# Check if the validation was successful\n",
    "if not result.has_issues():\n",
    "    print(\"RO-Crate is valid!\")\n",
    "\n",
    "else:\n",
    "    print(\"RO-Crate is invalid!\")\n",
    "    \n",
    "    # Explore the issues\n",
    "    for issue in result.get_issues():\n",
    "        # Every issue object has a reference to the check that failed, the severity of the issue, and a message describing the issue.\n",
    "        print(f\"Detected issue of severity {issue.severity.name} with check \\\"{issue.check.identifier}\\\": {issue.message}\")"
   ]
  }
 ],
 "metadata": {
  "kernelspec": {
   "display_name": "Python 3",
   "language": "python",
   "name": "python3"
  },
  "language_info": {
   "codemirror_mode": {
    "name": "ipython",
    "version": 3
   },
   "file_extension": ".py",
   "mimetype": "text/x-python",
   "name": "python",
   "nbconvert_exporter": "python",
   "pygments_lexer": "ipython3",
   "version": "3.10.1"
  }
 },
 "nbformat": 4,
 "nbformat_minor": 2
}
